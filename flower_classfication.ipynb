{
  "metadata": {
    "kernelspec": {
      "language": "python",
      "display_name": "Python 3",
      "name": "python3"
    },
    "language_info": {
      "name": "python",
      "version": "3.7.12",
      "mimetype": "text/x-python",
      "codemirror_mode": {
        "name": "ipython",
        "version": 3
      },
      "pygments_lexer": "ipython3",
      "nbconvert_exporter": "python",
      "file_extension": ".py"
    },
    "colab": {
      "provenance": []
    }
  },
  "nbformat_minor": 0,
  "nbformat": 4,
  "cells": [
    {
      "cell_type": "code",
      "source": [
        "# This Python 3 environment comes with many helpful analytics libraries installed\n",
        "# It is defined by the kaggle/python Docker image: https://github.com/kaggle/docker-python\n",
        "# For example, here's several helpful packages to load\n",
        "\n",
        "import numpy as np # linear algebra\n",
        "import pandas as pd # data processing, CSV file I/O (e.g. pd.read_csv)\n",
        "\n",
        "# Input data files are available in the read-only \"../input/\" directory\n",
        "# For example, running this (by clicking run or pressing Shift+Enter) will list all files under the input directory\n",
        "\n",
        "import os\n",
        "for dirname, _, filenames in os.walk('/kaggle/input'):\n",
        "    for filename in filenames:\n",
        "        print(os.path.join(dirname, filename))\n",
        "\n",
        "# You can write up to 20GB to the current directory (/kaggle/working/) that gets preserved as output when you create a version using \"Save & Run All\"\n",
        "# You can also write temporary files to /kaggle/temp/, but they won't be saved outside of the current session"
      ],
      "metadata": {
        "_uuid": "8f2839f25d086af736a60e9eeb907d3b93b6e0e5",
        "_cell_guid": "b1076dfc-b9ad-4769-8c92-a6c4dae69d19",
        "trusted": true,
        "id": "EiHflbCfNQd2"
      },
      "execution_count": null,
      "outputs": []
    },
    {
      "cell_type": "code",
      "source": [
        "import os\n",
        "import matplotlib.pyplot as plt\n",
        "import numpy as np\n",
        "import cv2\n",
        "from pathlib import Path\n",
        "import matplotlib.pyplot as plt\n",
        "import IPython\n",
        "from IPython.display import display\n",
        "from PIL import Image\n",
        "dataset='/kaggle/input/flowers/flowers'\n",
        "x=[]\n",
        "y = []\n",
        "for flower_name in os.listdir(dataset):\n",
        "    for image_path in os.listdir(dataset+'/'+flower_name):\n",
        "        img=dataset+'/'+flower_name+'/'+image_path\n",
        "        image = cv2.imread(img)\n",
        "        image = cv2.resize(image, (224,224))\n",
        "        x.append(image)\n",
        "        y.append(flower_name)"
      ],
      "metadata": {
        "execution": {
          "iopub.status.busy": "2023-04-08T22:59:10.127609Z",
          "iopub.execute_input": "2023-04-08T22:59:10.127926Z",
          "iopub.status.idle": "2023-04-08T23:00:59.716072Z",
          "shell.execute_reply.started": "2023-04-08T22:59:10.127840Z",
          "shell.execute_reply": "2023-04-08T23:00:59.715217Z"
        },
        "trusted": true,
        "id": "xsrooiAANQd5"
      },
      "execution_count": null,
      "outputs": []
    },
    {
      "cell_type": "code",
      "source": [
        "x=np.array(x)\n",
        "y=np.array(y)\n",
        "print(x.shape)\n",
        "y"
      ],
      "metadata": {
        "execution": {
          "iopub.status.busy": "2023-04-08T23:01:22.037064Z",
          "iopub.execute_input": "2023-04-08T23:01:22.037726Z",
          "iopub.status.idle": "2023-04-08T23:01:22.774598Z",
          "shell.execute_reply.started": "2023-04-08T23:01:22.037686Z",
          "shell.execute_reply": "2023-04-08T23:01:22.773823Z"
        },
        "trusted": true,
        "id": "pcneK_7rNQd5",
        "outputId": "907fbfc1-8b2b-4c50-f7c5-8d8ed8f2e81f"
      },
      "execution_count": null,
      "outputs": [
        {
          "name": "stdout",
          "text": "(15740, 224, 224, 3)\n",
          "output_type": "stream"
        },
        {
          "execution_count": 2,
          "output_type": "execute_result",
          "data": {
            "text/plain": "array(['astilbe', 'astilbe', 'astilbe', ..., 'iris', 'iris', 'iris'],\n      dtype='<U16')"
          },
          "metadata": {}
        }
      ]
    },
    {
      "cell_type": "code",
      "source": [
        "from sklearn.preprocessing import LabelBinarizer\n",
        "# perform one-hot encoding on the labels\n",
        "lb = LabelBinarizer()\n",
        "yy = lb.fit_transform(y)"
      ],
      "metadata": {
        "execution": {
          "iopub.status.busy": "2023-04-08T23:01:30.056068Z",
          "iopub.execute_input": "2023-04-08T23:01:30.056337Z",
          "iopub.status.idle": "2023-04-08T23:01:30.848056Z",
          "shell.execute_reply.started": "2023-04-08T23:01:30.056306Z",
          "shell.execute_reply": "2023-04-08T23:01:30.847223Z"
        },
        "trusted": true,
        "id": "EUSV-Dv9NQd7"
      },
      "execution_count": null,
      "outputs": []
    },
    {
      "cell_type": "code",
      "source": [
        "yy"
      ],
      "metadata": {
        "execution": {
          "iopub.status.busy": "2023-04-08T23:01:34.240366Z",
          "iopub.execute_input": "2023-04-08T23:01:34.240992Z",
          "iopub.status.idle": "2023-04-08T23:01:34.246650Z",
          "shell.execute_reply.started": "2023-04-08T23:01:34.240953Z",
          "shell.execute_reply": "2023-04-08T23:01:34.245941Z"
        },
        "trusted": true,
        "id": "tCTXTl7BNQd7",
        "outputId": "3042f2b4-0ee3-4c51-983d-b7b3d9deac62"
      },
      "execution_count": null,
      "outputs": [
        {
          "execution_count": 4,
          "output_type": "execute_result",
          "data": {
            "text/plain": "array([[1, 0, 0, ..., 0, 0, 0],\n       [1, 0, 0, ..., 0, 0, 0],\n       [1, 0, 0, ..., 0, 0, 0],\n       ...,\n       [0, 0, 0, ..., 0, 0, 0],\n       [0, 0, 0, ..., 0, 0, 0],\n       [0, 0, 0, ..., 0, 0, 0]])"
          },
          "metadata": {}
        }
      ]
    },
    {
      "cell_type": "code",
      "source": [
        "from sklearn.model_selection import train_test_split\n",
        "(trainX, testX, trainY, testY) = train_test_split(x,yy,test_size=0.33, stratify=yy, random_state=42)\n"
      ],
      "metadata": {
        "execution": {
          "iopub.status.busy": "2023-04-08T23:01:41.731152Z",
          "iopub.execute_input": "2023-04-08T23:01:41.731457Z",
          "iopub.status.idle": "2023-04-08T23:01:42.636175Z",
          "shell.execute_reply.started": "2023-04-08T23:01:41.731423Z",
          "shell.execute_reply": "2023-04-08T23:01:42.635383Z"
        },
        "trusted": true,
        "id": "c6OboM-iNQd8"
      },
      "execution_count": null,
      "outputs": []
    },
    {
      "cell_type": "code",
      "source": [
        "from keras.models import Sequential\n",
        "from keras.layers import Dense,Input,Conv2D,Dropout,MaxPooling2D,Flatten\n",
        "model=Sequential()\n",
        "model.add(Input(shape=(224,224,3)))\n",
        "model.add(Conv2D(64,(3,3),activation='relu'))\n",
        "model.add(MaxPooling2D((2,2)))\n",
        "model.add(Dropout(0.3))\n",
        "model.add(Conv2D(64,(3,3),activation='relu'))\n",
        "model.add(MaxPooling2D((2,2)))\n",
        "model.add(Dropout(0.3))\n",
        "model.add(Conv2D(128,(3,3),activation='relu'))\n",
        "model.add(MaxPooling2D((2,2)))\n",
        "model.add(Dropout(0.3))\n",
        "model.add(Conv2D(128,(3,3),activation='relu'))\n",
        "model.add(MaxPooling2D((2,2)))\n",
        "model.add(Dropout(0.3))\n",
        "model.add(Conv2D(256,(3,3),activation='relu'))\n",
        "model.add(MaxPooling2D((2,2)))\n",
        "model.add(Dropout(0.3))\n",
        "model.add(Conv2D(256,(3,3),activation='relu'))\n",
        "model.add(MaxPooling2D((2,2)))\n",
        "model.add(Dropout(0.3))\n",
        "model.add(Flatten())\n",
        "model.add(Dense(512,activation='relu'))\n",
        "model.add(Dropout(0.3))\n",
        "model.add(Dense(16,activation='softmax'))\n",
        "model.summary()"
      ],
      "metadata": {
        "execution": {
          "iopub.status.busy": "2023-04-08T23:01:46.581301Z",
          "iopub.execute_input": "2023-04-08T23:01:46.582036Z",
          "iopub.status.idle": "2023-04-08T23:01:52.962886Z",
          "shell.execute_reply.started": "2023-04-08T23:01:46.581996Z",
          "shell.execute_reply": "2023-04-08T23:01:52.962078Z"
        },
        "trusted": true,
        "id": "jqZndsooNQd8",
        "outputId": "a4533de7-3163-4a07-e5d1-f597ba24e331"
      },
      "execution_count": null,
      "outputs": [
        {
          "name": "stdout",
          "text": "Model: \"sequential\"\n_________________________________________________________________\nLayer (type)                 Output Shape              Param #   \n=================================================================\nconv2d (Conv2D)              (None, 222, 222, 64)      1792      \n_________________________________________________________________\nmax_pooling2d (MaxPooling2D) (None, 111, 111, 64)      0         \n_________________________________________________________________\ndropout (Dropout)            (None, 111, 111, 64)      0         \n_________________________________________________________________\nconv2d_1 (Conv2D)            (None, 109, 109, 64)      36928     \n_________________________________________________________________\nmax_pooling2d_1 (MaxPooling2 (None, 54, 54, 64)        0         \n_________________________________________________________________\ndropout_1 (Dropout)          (None, 54, 54, 64)        0         \n_________________________________________________________________\nconv2d_2 (Conv2D)            (None, 52, 52, 128)       73856     \n_________________________________________________________________\nmax_pooling2d_2 (MaxPooling2 (None, 26, 26, 128)       0         \n_________________________________________________________________\ndropout_2 (Dropout)          (None, 26, 26, 128)       0         \n_________________________________________________________________\nconv2d_3 (Conv2D)            (None, 24, 24, 128)       147584    \n_________________________________________________________________\nmax_pooling2d_3 (MaxPooling2 (None, 12, 12, 128)       0         \n_________________________________________________________________\ndropout_3 (Dropout)          (None, 12, 12, 128)       0         \n_________________________________________________________________\nconv2d_4 (Conv2D)            (None, 10, 10, 256)       295168    \n_________________________________________________________________\nmax_pooling2d_4 (MaxPooling2 (None, 5, 5, 256)         0         \n_________________________________________________________________\ndropout_4 (Dropout)          (None, 5, 5, 256)         0         \n_________________________________________________________________\nconv2d_5 (Conv2D)            (None, 3, 3, 256)         590080    \n_________________________________________________________________\nmax_pooling2d_5 (MaxPooling2 (None, 1, 1, 256)         0         \n_________________________________________________________________\ndropout_5 (Dropout)          (None, 1, 1, 256)         0         \n_________________________________________________________________\nflatten (Flatten)            (None, 256)               0         \n_________________________________________________________________\ndense (Dense)                (None, 512)               131584    \n_________________________________________________________________\ndropout_6 (Dropout)          (None, 512)               0         \n_________________________________________________________________\ndense_1 (Dense)              (None, 16)                8208      \n=================================================================\nTotal params: 1,285,200\nTrainable params: 1,285,200\nNon-trainable params: 0\n_________________________________________________________________\n",
          "output_type": "stream"
        }
      ]
    },
    {
      "cell_type": "code",
      "source": [
        "from keras import callbacks\n",
        "early_stopping = callbacks.EarlyStopping(\n",
        "    patience = 15,\n",
        "    restore_best_weights = True,\n",
        "    verbose = 1,\n",
        "    min_delta = 0.001,\n",
        ")"
      ],
      "metadata": {
        "execution": {
          "iopub.status.busy": "2023-04-08T23:02:07.141360Z",
          "iopub.execute_input": "2023-04-08T23:02:07.142133Z",
          "iopub.status.idle": "2023-04-08T23:02:07.147504Z",
          "shell.execute_reply.started": "2023-04-08T23:02:07.142094Z",
          "shell.execute_reply": "2023-04-08T23:02:07.146757Z"
        },
        "trusted": true,
        "id": "S6lkPgYWNQd9"
      },
      "execution_count": null,
      "outputs": []
    },
    {
      "cell_type": "code",
      "source": [
        "model.compile(loss='categorical_crossentropy', optimizer='adam', metrics=['accuracy'])\n",
        "result=model.fit(trainX, trainY, batch_size=64, validation_data = (testX, testY), steps_per_epoch = 400, epochs=80,shuffle=True,callbacks = [early_stopping])"
      ],
      "metadata": {
        "execution": {
          "iopub.status.busy": "2023-04-08T23:02:30.504493Z",
          "iopub.execute_input": "2023-04-08T23:02:30.505287Z",
          "iopub.status.idle": "2023-04-08T23:19:56.197416Z",
          "shell.execute_reply.started": "2023-04-08T23:02:30.505247Z",
          "shell.execute_reply": "2023-04-08T23:19:56.196553Z"
        },
        "trusted": true,
        "id": "3mQ-XIJxNQd9",
        "outputId": "94269842-7fc2-48fa-b90a-a53a8269c397"
      },
      "execution_count": null,
      "outputs": [
        {
          "name": "stdout",
          "text": "Epoch 1/80\n400/400 [==============================] - 42s 85ms/step - loss: 3.0467 - accuracy: 0.1548 - val_loss: 2.3503 - val_accuracy: 0.2114\nEpoch 2/80\n400/400 [==============================] - 31s 78ms/step - loss: 1.8794 - accuracy: 0.3408 - val_loss: 2.1426 - val_accuracy: 0.2620\nEpoch 3/80\n400/400 [==============================] - 31s 78ms/step - loss: 1.6350 - accuracy: 0.4419 - val_loss: 1.9190 - val_accuracy: 0.3602\nEpoch 4/80\n400/400 [==============================] - 31s 78ms/step - loss: 1.4432 - accuracy: 0.5140 - val_loss: 1.5935 - val_accuracy: 0.4764\nEpoch 5/80\n400/400 [==============================] - 31s 78ms/step - loss: 1.3713 - accuracy: 0.5437 - val_loss: 1.4703 - val_accuracy: 0.5201\nEpoch 6/80\n400/400 [==============================] - 31s 78ms/step - loss: 1.2273 - accuracy: 0.5887 - val_loss: 1.3842 - val_accuracy: 0.5613\nEpoch 7/80\n400/400 [==============================] - 31s 78ms/step - loss: 1.1472 - accuracy: 0.6177 - val_loss: 1.3710 - val_accuracy: 0.5663\nEpoch 8/80\n400/400 [==============================] - 31s 78ms/step - loss: 1.0932 - accuracy: 0.6338 - val_loss: 1.2516 - val_accuracy: 0.5931\nEpoch 9/80\n400/400 [==============================] - 31s 78ms/step - loss: 1.0499 - accuracy: 0.6492 - val_loss: 1.1956 - val_accuracy: 0.6196\nEpoch 10/80\n400/400 [==============================] - 31s 78ms/step - loss: 1.0003 - accuracy: 0.6687 - val_loss: 1.1914 - val_accuracy: 0.6023\nEpoch 11/80\n400/400 [==============================] - 31s 78ms/step - loss: 0.9523 - accuracy: 0.6827 - val_loss: 1.0231 - val_accuracy: 0.6778\nEpoch 12/80\n400/400 [==============================] - 31s 78ms/step - loss: 0.9196 - accuracy: 0.6910 - val_loss: 1.1274 - val_accuracy: 0.6406\nEpoch 13/80\n400/400 [==============================] - 31s 78ms/step - loss: 0.9015 - accuracy: 0.7021 - val_loss: 1.0414 - val_accuracy: 0.6689\nEpoch 14/80\n400/400 [==============================] - 31s 78ms/step - loss: 0.8723 - accuracy: 0.7079 - val_loss: 1.1228 - val_accuracy: 0.6439\nEpoch 15/80\n400/400 [==============================] - 31s 78ms/step - loss: 0.8397 - accuracy: 0.7172 - val_loss: 1.1408 - val_accuracy: 0.6462\nEpoch 16/80\n400/400 [==============================] - 31s 78ms/step - loss: 0.8380 - accuracy: 0.7225 - val_loss: 1.1960 - val_accuracy: 0.6266\nEpoch 17/80\n400/400 [==============================] - 31s 78ms/step - loss: 0.8084 - accuracy: 0.7280 - val_loss: 1.0032 - val_accuracy: 0.6818\nEpoch 18/80\n400/400 [==============================] - 31s 78ms/step - loss: 0.8033 - accuracy: 0.7329 - val_loss: 1.0639 - val_accuracy: 0.6706\nEpoch 19/80\n400/400 [==============================] - 31s 78ms/step - loss: 0.7975 - accuracy: 0.7348 - val_loss: 1.0334 - val_accuracy: 0.6730\nEpoch 20/80\n400/400 [==============================] - 31s 78ms/step - loss: 0.7792 - accuracy: 0.7427 - val_loss: 1.0191 - val_accuracy: 0.6864\nEpoch 21/80\n400/400 [==============================] - 31s 78ms/step - loss: 0.7847 - accuracy: 0.7397 - val_loss: 1.1170 - val_accuracy: 0.6485\nEpoch 22/80\n400/400 [==============================] - 31s 78ms/step - loss: 0.7604 - accuracy: 0.7495 - val_loss: 1.1688 - val_accuracy: 0.6410\nEpoch 23/80\n400/400 [==============================] - 31s 78ms/step - loss: 0.7576 - accuracy: 0.7492 - val_loss: 1.0662 - val_accuracy: 0.6724\nEpoch 24/80\n400/400 [==============================] - 31s 78ms/step - loss: 0.7712 - accuracy: 0.7445 - val_loss: 1.1417 - val_accuracy: 0.6458\nEpoch 25/80\n400/400 [==============================] - 31s 78ms/step - loss: 0.7248 - accuracy: 0.7591 - val_loss: 1.0439 - val_accuracy: 0.6830\nEpoch 26/80\n400/400 [==============================] - 31s 78ms/step - loss: 0.7481 - accuracy: 0.7561 - val_loss: 1.1741 - val_accuracy: 0.6433\nEpoch 27/80\n400/400 [==============================] - 31s 78ms/step - loss: 0.7373 - accuracy: 0.7528 - val_loss: 1.1456 - val_accuracy: 0.6527\nEpoch 28/80\n400/400 [==============================] - 31s 78ms/step - loss: 0.7278 - accuracy: 0.7620 - val_loss: 1.0303 - val_accuracy: 0.6745\nEpoch 29/80\n400/400 [==============================] - 31s 78ms/step - loss: 0.7066 - accuracy: 0.7664 - val_loss: 1.0085 - val_accuracy: 0.6803\nEpoch 30/80\n400/400 [==============================] - 31s 78ms/step - loss: 0.7441 - accuracy: 0.7558 - val_loss: 1.1404 - val_accuracy: 0.6400\nEpoch 31/80\n400/400 [==============================] - 31s 77ms/step - loss: 0.7090 - accuracy: 0.7675 - val_loss: 0.9815 - val_accuracy: 0.6895\nEpoch 32/80\n400/400 [==============================] - 31s 78ms/step - loss: 0.7092 - accuracy: 0.7682 - val_loss: 1.1535 - val_accuracy: 0.6370\nEpoch 33/80\n400/400 [==============================] - 31s 78ms/step - loss: 0.7192 - accuracy: 0.7663 - val_loss: 1.0817 - val_accuracy: 0.6597\nEpoch 34/80\n400/400 [==============================] - 2s 4ms/step - loss: 0.7192 - accuracy: 0.7663 - val_loss: 1.0817 - val_accuracy: 0.6597\n",
          "output_type": "stream"
        }
      ]
    },
    {
      "cell_type": "code",
      "source": [
        "model.evaluate(testX, testY)"
      ],
      "metadata": {
        "execution": {
          "iopub.status.busy": "2023-04-08T23:24:19.042165Z",
          "iopub.execute_input": "2023-04-08T23:24:19.042478Z",
          "iopub.status.idle": "2023-04-08T23:24:23.094607Z",
          "shell.execute_reply.started": "2023-04-08T23:24:19.042442Z",
          "shell.execute_reply": "2023-04-08T23:24:23.092875Z"
        },
        "trusted": true,
        "id": "gHwB61VGNQd-",
        "outputId": "580b1dc8-9e8b-4fd5-c411-0d3db9d3369f"
      },
      "execution_count": null,
      "outputs": [
        {
          "name": "stdout",
          "text": "163/163 [==============================] - 2s 11ms/step - loss: 1.0817 - accuracy: 0.6597\n",
          "output_type": "stream"
        },
        {
          "execution_count": 12,
          "output_type": "execute_result",
          "data": {
            "text/plain": "[1.0816582441329956, 0.659672737121582]"
          },
          "metadata": {}
        }
      ]
    },
    {
      "cell_type": "code",
      "source": [
        "plt.plot(result.history['loss'])\n",
        "plt.plot(result.history['val_loss'])"
      ],
      "metadata": {
        "execution": {
          "iopub.status.busy": "2023-04-08T23:20:54.106377Z",
          "iopub.execute_input": "2023-04-08T23:20:54.107151Z",
          "iopub.status.idle": "2023-04-08T23:20:54.326954Z",
          "shell.execute_reply.started": "2023-04-08T23:20:54.107112Z",
          "shell.execute_reply": "2023-04-08T23:20:54.326227Z"
        },
        "trusted": true,
        "id": "y8ITTDebNQd-",
        "outputId": "82d1c52c-0658-4b3d-ce10-ff25fb3284bb"
      },
      "execution_count": null,
      "outputs": [
        {
          "execution_count": 9,
          "output_type": "execute_result",
          "data": {
            "text/plain": "[<matplotlib.lines.Line2D at 0x75e1302549d0>]"
          },
          "metadata": {}
        },
        {
          "output_type": "display_data",
          "data": {
            "text/plain": "<Figure size 432x288 with 1 Axes>",
            "image/png": "[encoded data removed]"
          },
          "metadata": {
            "needs_background": "light"
          }
        }
      ]
    },
    {
      "cell_type": "code",
      "source": [
        "plt.plot(result.history['accuracy'])\n",
        "plt.plot(result.history['val_accuracy'])"
      ],
      "metadata": {
        "execution": {
          "iopub.status.busy": "2023-04-08T23:21:23.014336Z",
          "iopub.execute_input": "2023-04-08T23:21:23.014654Z",
          "iopub.status.idle": "2023-04-08T23:21:23.214006Z",
          "shell.execute_reply.started": "2023-04-08T23:21:23.014621Z",
          "shell.execute_reply": "2023-04-08T23:21:23.213260Z"
        },
        "trusted": true,
        "id": "d4HG8Mi1NQd-",
        "outputId": "52e53ba5-0b6d-43dc-d2bd-515c0255ba92"
      },
      "execution_count": null,
      "outputs": [
        {
          "execution_count": 10,
          "output_type": "execute_result",
          "data": {
            "text/plain": "[<matplotlib.lines.Line2D at 0x75e13015bdd0>]"
          },
          "metadata": {}
        },
        {
          "output_type": "display_data",
          "data": {
            "text/plain": "<Figure size 432x288 with 1 Axes>",
            "image/png": "[encoded data removed]"
          },
          "metadata": {
            "needs_background": "light"
          }
        }
      ]
    }
  ]
}